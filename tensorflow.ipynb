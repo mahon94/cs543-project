{
 "cells": [
  {
   "cell_type": "code",
   "execution_count": 11,
   "metadata": {
    "collapsed": true
   },
   "outputs": [],
   "source": [
    "import matplotlib.pyplot as plt\n",
    "%matplotlib inline\n",
    "import glob\n",
    "import os\n",
    "import re"
   ]
  },
  {
   "cell_type": "code",
   "execution_count": 21,
   "metadata": {
    "collapsed": true
   },
   "outputs": [],
   "source": [
    "import numpy as np\n",
    "from mpl_toolkits.mplot3d import Axes3D"
   ]
  },
  {
   "cell_type": "code",
   "execution_count": 19,
   "metadata": {
    "collapsed": false
   },
   "outputs": [],
   "source": [
    "path = 'data/Images/HG/0001/'\n",
    "subpaths = ['VSD.Brain.XX.O.MR_Flair', 'VSD.Brain.XX.O.MR_T1', 'VSD.Brain.XX.O.MR_T1c', 'VSD.Brain.XX.O.MR_T2']\n",
    "fp1 = os.path.join(path, 'VSD.Brain_?more.XX.XX.OT')\n",
    "label_path = os.path.basename(glob.glob(fp1)[0])\n",
    "# 'VSD.Brain_3more.XX.XX.OT'\n",
    "\n",
    "images = list(load_images(path, subpaths))\n",
    "images_norm = normalize_images(images)\n",
    "label_image = list(load_images(path, [label_path]))[0]"
   ]
  },
  {
   "cell_type": "code",
   "execution_count": 20,
   "metadata": {
    "collapsed": false
   },
   "outputs": [
    {
     "data": {
      "text/plain": [
       "(176, 216, 160)"
      ]
     },
     "execution_count": 20,
     "metadata": {},
     "output_type": "execute_result"
    }
   ],
   "source": [
    "images[0].shape"
   ]
  },
  {
   "cell_type": "code",
   "execution_count": null,
   "metadata": {
    "collapsed": true
   },
   "outputs": [],
   "source": []
  },
  {
   "cell_type": "code",
   "execution_count": 6,
   "metadata": {
    "collapsed": true
   },
   "outputs": [],
   "source": [
    "import matplotlib.pyplot as plt\n",
    "%matplotlib inline\n",
    "import os\n",
    "os.environ['CUDA_VISIBLE_DEVICES'] = '1'\n",
    "import tensorflow as tf\n",
    "import numpy\n",
    "import scipy.ndimage\n",
    "import glob\n",
    "import os\n",
    "import re"
   ]
  },
  {
   "cell_type": "code",
   "execution_count": 7,
   "metadata": {
    "collapsed": false
   },
   "outputs": [],
   "source": [
    "def identity(x):\n",
    "    return x\n",
    "\n",
    "def leaky_relu(x):\n",
    "    alpha = 0.1\n",
    "    out = tf.maximum(alpha*x,x)\n",
    "    return out\n",
    "\n",
    "def batch_norm(_X, name):\n",
    "    with tf.variable_scope(name):\n",
    "        _, _, _, c = _X.get_shape().as_list()\n",
    "        mean, var = tf.nn.moments(_X, [0, 1, 2])\n",
    "        offset = tf.get_variable('offset',\n",
    "                                 shape=[c],\n",
    "                                 initializer=tf.constant_initializer(value=0.0))\n",
    "        scale = tf.get_variable('scale',\n",
    "                                 shape=[c],\n",
    "                                 initializer=tf.constant_initializer(value=1.0))\n",
    "        output = tf.nn.batch_normalization(_X, mean, var, offset, scale, 1e-5)\n",
    "    return output\n",
    "\n",
    "def conv(_X, out_dim, name, size=3, gain=numpy.sqrt(2), func=leaky_relu):\n",
    "    with tf.variable_scope(name):\n",
    "        in_dim = _X.get_shape().as_list()[-1]\n",
    "        stddev = gain / numpy.sqrt(size*size*in_dim)\n",
    "        w_init = tf.random_normal_initializer(stddev=stddev)\n",
    "        w = tf.get_variable('w', shape=[size, size, in_dim, out_dim], initializer=w_init)\n",
    "        b_init = tf.constant_initializer(value=0.0)\n",
    "        b = tf.get_variable('b', shape=[out_dim], initializer=b_init)\n",
    "        output = func(tf.nn.conv2d(_X, w, strides=[1, 1, 1,1], padding='SAME') + b)\n",
    "    return output\n",
    "\n",
    "def generate_samples():\n",
    "    n_samples = 4123\n",
    "    n_epochs = 1000\n",
    "    n_batches = n_samples/batch_size\n",
    "    for _ in range(n_epochs):\n",
    "        sample_ids = numpy.random.permutation(n_samples)\n",
    "        for i in range(n_batches):\n",
    "            inds = slice(i*batch_size, (i+1)*batch_size)\n",
    "            yield sample_ids[inds]\n",
    "            \n",
    "images = numpy.load('images.npy')\n",
    "labels = numpy.load('labels.npy')"
   ]
  },
  {
   "cell_type": "code",
   "execution_count": 8,
   "metadata": {
    "collapsed": true
   },
   "outputs": [],
   "source": [
    "def zoom(image, zoom_factor, order):\n",
    "    image = scipy.ndimage.interpolation.zoom(image, zoom_factor, mode='nearest', order=order)\n",
    "    w, h = image.shape\n",
    "    if zoom_factor > 1.0:\n",
    "        image = image[(w-width)/2:width+(w-width)/2, (h-height)/2:height+(h-height)/2]\n",
    "    else:\n",
    "        width_diff = width - w\n",
    "        top_diff = width_diff / 2\n",
    "        bot_diff = width_diff - top_diff\n",
    "        height_diff = height - h\n",
    "        left_diff = height_diff / 2\n",
    "        right_diff = height_diff - left_diff\n",
    "        image = numpy.pad(image, ((top_diff, bot_diff), (left_diff, right_diff)), 'edge')   \n",
    "    return image\n",
    "\n",
    "\n",
    "def augment_sample(image, label):\n",
    "    # Flipping\n",
    "    if numpy.random.binomial(1, 0.5):\n",
    "        image = image[:, ::-1, :]\n",
    "        label = label[:, ::-1, :]\n",
    "    \n",
    "    # Rotating\n",
    "    r = numpy.random.uniform(-15.0, 15.0)\n",
    "    for i in range(n_channels):\n",
    "        image[:,:,i] = scipy.ndimage.interpolation.rotate(image[:,:,i], r, reshape=False, mode='nearest')\n",
    "    for i in range(n_classes):\n",
    "        label[:,:,i] = scipy.ndimage.interpolation.rotate(label[:,:,i], 15, reshape=False, mode='nearest', order=0)\n",
    "        \n",
    "    # Zooming\n",
    "    z = numpy.random.uniform(0.9, 1.2)\n",
    "    for i in range(n_channels):\n",
    "        image[:,:,i] = zoom(image[:,:,i], z, 3)\n",
    "    for i in range(n_classes):\n",
    "        label[:,:,i] = zoom(label[:,:,i], z, 0)\n",
    "    \n",
    "    # Shifting\n",
    "    sv = numpy.random.randint(-20, 20)\n",
    "    sh = numpy.random.randint(-20, 20)\n",
    "    for i in range(n_channels):\n",
    "        image[:,:,i] = scipy.ndimage.interpolation.shift(image[:,:,i], [sv, sh], mode='nearest')\n",
    "    for i in range(n_classes):\n",
    "        label[:,:,i] = scipy.ndimage.interpolation.shift(label[:,:,i], [sv, sh], mode='nearest', order=0)\n",
    "    \n",
    "    return(image, label)\n",
    "\n",
    "\n",
    "def generate_batch():\n",
    "    for samples in generate_samples():\n",
    "        image_batch = images[samples, :, :, :]\n",
    "        label_batch = labels[samples, :, :, :]\n",
    "        for i in range(image_batch.shape[0]):\n",
    "            image_batch[i], label_batch[i] = augment_sample(image_batch[i], label_batch[i])\n",
    "        yield(image_batch, label_batch)"
   ]
  },
  {
   "cell_type": "code",
   "execution_count": 18,
   "metadata": {
    "collapsed": true
   },
   "outputs": [],
   "source": [
    "# Parameters\n",
    "training_iters = 200000\n",
    "batch_size = 1\n",
    "display_step = 20\n",
    "\n",
    "# Network Parameters\n",
    "width = 216\n",
    "height = 160\n",
    "n_channels = 4\n",
    "n_classes = 5 # total classes (normal, non-normal)"
   ]
  },
  {
   "cell_type": "code",
   "execution_count": 9,
   "metadata": {
    "collapsed": false
   },
   "outputs": [],
   "source": [
    "# tf Graph input\n",
    "x = tf.placeholder(tf.float32, [None, width, height, n_channels])\n",
    "y = tf.placeholder(tf.float32, [None, width, height, n_classes])\n",
    "lr = tf.placeholder(tf.float32)\n",
    "weights = tf.placeholder(tf.float32, [batch_size*width*height])\n",
    "\n",
    "def layer(_X, name):\n",
    "    with tf.variable_scope(name):\n",
    "        c = conv(_X, 64, 'conv')\n",
    "        bn = batch_norm(c, 'bn')\n",
    "    return bn\n",
    "    \n",
    "def tom_net(_X):\n",
    "    # Convolution Layer\n",
    "    nb_layers = 25\n",
    "    _input = batch_norm(_X, 'input_bn')\n",
    "    for i in range(nb_layers):\n",
    "        _input = layer(_input, str(i))\n",
    "\n",
    "    out = conv(_input, n_classes, 'output', gain=1.0, func=identity)\n",
    "    return out\n",
    "\n",
    "# Construct model\n",
    "pred = tom_net(x)\n",
    "\n",
    "# Define loss and optimizer\n",
    "pred_reshape = tf.reshape(pred, [batch_size*width*height, n_classes])\n",
    "y_reshape = tf.reshape(y, [batch_size*width*height, n_classes])\n",
    "\n",
    "error = tf.nn.softmax_cross_entropy_with_logits(pred_reshape, y_reshape)\n",
    "cost = tf.reduce_mean(error * weights)\n",
    "optimizer = tf.train.AdamOptimizer(learning_rate=lr).minimize(cost)\n",
    "\n",
    "# Evaluate model\n",
    "correct_pred = tf.equal(tf.argmax(pred,3), tf.argmax(y,3))\n",
    "accuracy = tf.reduce_mean(tf.cast(correct_pred, tf.float32))\n",
    "\n",
    "# Initializing the variables\n",
    "init = tf.initialize_all_variables()"
   ]
  },
  {
   "cell_type": "code",
   "execution_count": 10,
   "metadata": {
    "collapsed": false
   },
   "outputs": [],
   "source": [
    "arg_labels = numpy.argmax(labels, axis=3)\n",
    "class_weights = numpy.zeros(n_classes)\n",
    "for i in range(n_classes):\n",
    "    class_weights[i] = 1/numpy.mean(arg_labels == i)**0.3\n",
    "class_weights /= numpy.sum(class_weights)"
   ]
  },
  {
   "cell_type": "code",
   "execution_count": 11,
   "metadata": {
    "collapsed": false
   },
   "outputs": [
    {
     "data": {
      "text/plain": [
       "array([ 0.04610796,  0.29065991,  0.16969985,  0.25641113,  0.23712116])"
      ]
     },
     "execution_count": 11,
     "metadata": {},
     "output_type": "execute_result"
    }
   ],
   "source": [
    "class_weights"
   ]
  },
  {
   "cell_type": "code",
   "execution_count": 12,
   "metadata": {
    "collapsed": true
   },
   "outputs": [],
   "source": [
    "# Launch the graph\n",
    "sess = tf.Session()\n",
    "sess.run(init)"
   ]
  },
  {
   "cell_type": "code",
   "execution_count": 18,
   "metadata": {
    "collapsed": true
   },
   "outputs": [],
   "source": [
    "# Add ops to save and restore all the variables.\n",
    "saver = tf.train.Saver()\n",
    "model_path = \"./models-e2e/model.ckpt\"\n",
    "learning_rate = 0.001\n",
    "\n",
    "saver.restore(sess, model_path)"
   ]
  },
  {
   "cell_type": "code",
   "execution_count": null,
   "metadata": {
    "collapsed": false
   },
   "outputs": [],
   "source": [
    "# For each iteration over all data\n",
    "for step, (image_batch, label_batch) in enumerate(generate_batch()):            \n",
    "    label_vect = numpy.reshape(numpy.argmax(label_batch, axis=3), [batch_size*width*height])\n",
    "    weight_vect = class_weights[label_vect]\n",
    "    # Fit training using batch data\n",
    "    feed_dict = {x: image_batch, y: label_batch, weights: weight_vect, lr:learning_rate}\n",
    "    loss, acc, _ = sess.run([cost, accuracy, optimizer], feed_dict=feed_dict)\n",
    "    if step % display_step == 0:\n",
    "        print(\"Step %d, Minibatch Loss=%0.6f , Training Accuracy=%0.5f \" \n",
    "              % (step, loss, acc))\n",
    "\n",
    "        # Save the variables to disk.\n",
    "        saver.save(sess, model_path)\n",
    "    if step % 2000 == 0:\n",
    "        learning_rate *= 0.9"
   ]
  },
  {
   "cell_type": "code",
   "execution_count": null,
   "metadata": {
    "collapsed": true
   },
   "outputs": [],
   "source": []
  },
  {
   "cell_type": "code",
   "execution_count": null,
   "metadata": {
    "collapsed": true
   },
   "outputs": [],
   "source": []
  },
  {
   "cell_type": "code",
   "execution_count": null,
   "metadata": {
    "collapsed": true
   },
   "outputs": [],
   "source": [
    "saver = tf.train.Saver()\n",
    "model_path = \"./models-e2e/model.ckpt\"\n",
    "\n",
    "# Restore the graph\n",
    "saver.restore(sess, model_path)"
   ]
  },
  {
   "cell_type": "code",
   "execution_count": null,
   "metadata": {
    "collapsed": false
   },
   "outputs": [],
   "source": [
    "samples = next(generate_samples())\n",
    "image_batch = images[samples, :, :, :]\n",
    "label_batch = labels[samples, :, :, :]\n",
    "label_vect = numpy.reshape(numpy.argmax(label_batch, axis=3), [batch_size*width*height])\n",
    "weight_vect = class_weights[label_vect]\n",
    "# Fit training using batch data\n",
    "feed_dict = {x: image_batch, y: label_batch, weights: weight_vect}\n",
    "# Fit training using batch data\n",
    "loss, out = sess.run([cost, tf.nn.softmax(pred_reshape)], feed_dict=feed_dict)\n",
    "_out = numpy.reshape(out, (batch_size, width, height, n_classes))"
   ]
  },
  {
   "cell_type": "code",
   "execution_count": null,
   "metadata": {
    "collapsed": false
   },
   "outputs": [],
   "source": [
    "plt.subplot(1, 3, 1)\n",
    "plt.imshow(numpy.argmax(_out[0], axis=2))\n",
    "plt.colorbar()\n",
    "plt.clim([0,5])\n",
    "plt.subplot(1, 3, 2)\n",
    "plt.imshow(numpy.argmax(image_batch[0], axis=2))\n",
    "plt.colorbar()\n",
    "plt.subplot(1, 3, 3)\n",
    "plt.imshow(numpy.argmax(label_batch[0], axis=2))\n",
    "plt.colorbar()\n",
    "plt.clim([0,5])\n",
    "fig = plt.gcf()\n",
    "fig.set_size_inches(6*3, 6)\n",
    "loss"
   ]
  },
  {
   "cell_type": "code",
   "execution_count": null,
   "metadata": {
    "collapsed": true
   },
   "outputs": [],
   "source": []
  },
  {
   "cell_type": "code",
   "execution_count": 7,
   "metadata": {
    "collapsed": false
   },
   "outputs": [],
   "source": [
    "import SimpleITK as sitk\n",
    "import numpy as np\n",
    "import scipy as sp\n",
    "import os\n",
    "import matplotlib.pyplot as plt\n",
    "import scipy as sc\n",
    "import pandas as pd\n",
    "from collections import Counter\n",
    "\n",
    "def find_files_in_dir(path, endswith):\n",
    "    for _file in os.listdir(path):\n",
    "        if _file.endswith(endswith):\n",
    "            yield _file\n",
    "\n",
    "def adjust_3d_size(image, new_width, new_height):\n",
    "    _, w, h = image.shape\n",
    "    if w == new_width:\n",
    "        pass\n",
    "    elif w < new_width:\n",
    "        width_diff = new_width - w\n",
    "        top_diff = width_diff / 2\n",
    "        bot_diff = width_diff - top_diff\n",
    "        image = numpy.pad(image, ((0, 0), (top_diff, bot_diff), (0, 0)), 'edge')\n",
    "    else:\n",
    "        image = image[:, (w-new_width)/2:new_width+(w-new_width)/2, :]\n",
    "    \n",
    "    if h == new_height:\n",
    "        pass\n",
    "    if h < new_height:\n",
    "        height_diff = new_height - h\n",
    "        left_diff = height_diff / 2\n",
    "        right_diff = height_diff - left_diff\n",
    "        image = numpy.pad(image, ((0, 0), (0, 0), (left_diff, right_diff)), 'edge')\n",
    "    else:\n",
    "        image = image[:, :, (h-new_height)/2:new_height+(h-new_height)/2]\n",
    "    return image \n",
    "\n",
    "\n",
    "def get_image_size(path, subpath):\n",
    "    fullpath = os.path.join(path, subpath)\n",
    "    image_files = list(find_files_in_dir(fullpath, 'mha'))\n",
    "    assert len(image_files) == 1\n",
    "    image = sitk.ReadImage(os.path.join(fullpath, image_files[0]))\n",
    "    arr = sitk.GetArrayFromImage(image)\n",
    "    return arr.shape\n",
    "\n",
    "\n",
    "def load_images(path, subpaths):\n",
    "    for sp in subpaths:\n",
    "        fullpath = os.path.join(path, sp)\n",
    "        image_files = list(find_files_in_dir(fullpath, 'mha'))\n",
    "        assert len(image_files) == 1\n",
    "        image = sitk.ReadImage(os.path.join(fullpath, image_files[0]))\n",
    "        arr = sitk.GetArrayFromImage(image)\n",
    "        arr = adjust_3d_size(arr, width, height)\n",
    "        yield arr\n",
    "        \n",
    "def merge_images_into_channels(images):\n",
    "    image = np.zeros((len(images), images.shape[0], images.shape[1]))\n",
    "    for i, img in images:\n",
    "        image[i, :, :] = img\n",
    "    return image\n",
    "\n",
    "def normalize_images(images):\n",
    "    out = []\n",
    "    for image in images:\n",
    "        mean = np.mean(image)\n",
    "        std = np.std(image)\n",
    "        image = (image - mean) / std\n",
    "        out.append(image)\n",
    "#         print('===>', np.min(image), np.max(image))\n",
    "#         print('===>', mean, std)\n",
    "#         print('===>', np.min(out), np.max(out))\n",
    "        # out.append(np.uint8(image * 255.0 / np.max(image)))\n",
    "    return out\n",
    "\n",
    "def show_images(images, label_image, Z):\n",
    "    f, ((ax1, ax2, ax3, ax4, ax5)) = plt.subplots(1, 5)\n",
    "    ax = [ax1, ax2, ax3, ax4]\n",
    "    for i in range(channels):\n",
    "        cax = ax[i].imshow(images[i][Z,:,:])\n",
    "        ax[i].axis('off')\n",
    "        f.colorbar(cax, ax = ax[i])\n",
    "\n",
    "    ax5.imshow(label_image[Z,:,:])\n",
    "    ax5.axis('off')\n",
    "    \n",
    "    fig = plt.gcf()\n",
    "    fig.set_size_inches(23, 4)    \n",
    "    \n",
    "\n",
    "def get_patch(images, x, y, z, size):\n",
    "    patch = np.zeros((size, size, len(images)))\n",
    "    for idx, image in enumerate(images):\n",
    "        patch[:, :, idx] = image[z, x-size/2:x+size/2, y-size/2:y+size/2]\n",
    "    return patch\n",
    "\n",
    "\n",
    "def get_label(label_image, x, y, z):\n",
    "    out = np.zeros(label_count)\n",
    "    out[label_image[z,x,y]] = 1\n",
    "    return out > 0\n",
    "\n",
    "\n",
    "def decompose_label(label_image):\n",
    "    w, h = label_image.shape\n",
    "    output = np.zeros((w,h,n_classes), dtype=np.float32)\n",
    "    for x in range(w):\n",
    "        for y in range(h):\n",
    "            output[x,y,label_image[x,y]] = 1.0\n",
    "    return output\n",
    "\n",
    "\n",
    "def load_all_files(image_id):\n",
    "    path = image_id\n",
    "    subpaths = ['VSD.Brain.XX.O.MR_Flair', 'VSD.Brain.XX.O.MR_T1', 'VSD.Brain.XX.O.MR_T1c', 'VSD.Brain.XX.O.MR_T2']\n",
    "    fp1 = os.path.join(path, 'VSD.Brain_?more.XX.XX.OT')\n",
    "    label_path = os.path.basename(glob.glob(fp1)[0])\n",
    "    # 'VSD.Brain_3more.XX.XX.OT'\n",
    "\n",
    "    images = list(load_images(path, subpaths))\n",
    "    images_norm = normalize_images(images)\n",
    "    label_image = list(load_images(path, [label_path]))[0]\n",
    "    return (images_norm, label_image)\n",
    "\n",
    "\n",
    "def generate_2d_images(images_norm, label_image):\n",
    "    d, w, h = images_norm[0].shape\n",
    "    image = np.zeros((w, h, n_channels), dtype=np.float32)\n",
    "    for z in range(d):\n",
    "        for i in range(n_channels):\n",
    "            image[:,:,i] = images_norm[i][z,:,:]\n",
    "            label = None\n",
    "            if label_image != None:\n",
    "                label = decompose_label(label_image[z,:,:])\n",
    "        yield (image, label)\n",
    "\n",
    "def generate_all_2d_images():\n",
    "    image_ids = glob.glob('data/Images/*/*')\n",
    "    for image_id in image_ids:\n",
    "        print(image_id)\n",
    "        (images_norm, label_image) = load_all_files(image_id)\n",
    "        for (image, label) in generate_2d_images(images_norm, label_image):\n",
    "            if (np.max(image) - np.min(image) < 0.1):\n",
    "                continue\n",
    "            yield(image, label)\n",
    "\n"
   ]
  },
  {
   "cell_type": "code",
   "execution_count": 34,
   "metadata": {
    "collapsed": true
   },
   "outputs": [],
   "source": [
    "def image_generation():\n",
    "    nb_images = 4123\n",
    "    w = width\n",
    "    h = height\n",
    "    \n",
    "    images = np.zeros((nb_images, w, h, n_channels), dtype=np.float32)\n",
    "    labels = np.zeros((nb_images, w, h, n_classes), dtype=np.float32)\n",
    "    \n",
    "    count = 0\n",
    "    for (image, label) in generate_all_2d_images():\n",
    "        images[count] = image\n",
    "        labels[count] = label\n",
    "        count += 1\n",
    "    \n",
    "    print(count)\n",
    "    np.save('images', images[:count])\n",
    "    np.save('labels', labels[:count])"
   ]
  },
  {
   "cell_type": "code",
   "execution_count": 35,
   "metadata": {
    "collapsed": false
   },
   "outputs": [
    {
     "name": "stdout",
     "output_type": "stream",
     "text": [
      "data/Images/HG/0004\n",
      "data/Images/HG/0001\n"
     ]
    },
    {
     "name": "stderr",
     "output_type": "stream",
     "text": [
      "/home/ubuntu/anaconda2/lib/python2.7/site-packages/ipykernel/__main__.py:134: FutureWarning: comparison to `None` will result in an elementwise object comparison in the future.\n"
     ]
    },
    {
     "ename": "KeyboardInterrupt",
     "evalue": "",
     "output_type": "error",
     "traceback": [
      "\u001b[1;31m---------------------------------------------------------------------------\u001b[0m",
      "\u001b[1;31mKeyboardInterrupt\u001b[0m                         Traceback (most recent call last)",
      "\u001b[1;32m<ipython-input-35-063ba5d4cc68>\u001b[0m in \u001b[0;36m<module>\u001b[1;34m()\u001b[0m\n\u001b[1;32m----> 1\u001b[1;33m \u001b[0mimage_generation\u001b[0m\u001b[1;33m(\u001b[0m\u001b[1;33m)\u001b[0m\u001b[1;33m\u001b[0m\u001b[0m\n\u001b[0m",
      "\u001b[1;32m<ipython-input-34-2f7831507812>\u001b[0m in \u001b[0;36mimage_generation\u001b[1;34m()\u001b[0m\n\u001b[0;32m      8\u001b[0m \u001b[1;33m\u001b[0m\u001b[0m\n\u001b[0;32m      9\u001b[0m     \u001b[0mcount\u001b[0m \u001b[1;33m=\u001b[0m \u001b[1;36m0\u001b[0m\u001b[1;33m\u001b[0m\u001b[0m\n\u001b[1;32m---> 10\u001b[1;33m     \u001b[1;32mfor\u001b[0m \u001b[1;33m(\u001b[0m\u001b[0mimage\u001b[0m\u001b[1;33m,\u001b[0m \u001b[0mlabel\u001b[0m\u001b[1;33m)\u001b[0m \u001b[1;32min\u001b[0m \u001b[0mgenerate_all_2d_images\u001b[0m\u001b[1;33m(\u001b[0m\u001b[1;33m)\u001b[0m\u001b[1;33m:\u001b[0m\u001b[1;33m\u001b[0m\u001b[0m\n\u001b[0m\u001b[0;32m     11\u001b[0m         \u001b[0mimages\u001b[0m\u001b[1;33m[\u001b[0m\u001b[0mcount\u001b[0m\u001b[1;33m]\u001b[0m \u001b[1;33m=\u001b[0m \u001b[0mimage\u001b[0m\u001b[1;33m\u001b[0m\u001b[0m\n\u001b[0;32m     12\u001b[0m         \u001b[0mlabels\u001b[0m\u001b[1;33m[\u001b[0m\u001b[0mcount\u001b[0m\u001b[1;33m]\u001b[0m \u001b[1;33m=\u001b[0m \u001b[0mlabel\u001b[0m\u001b[1;33m\u001b[0m\u001b[0m\n",
      "\u001b[1;32m<ipython-input-13-03b36c916e03>\u001b[0m in \u001b[0;36mgenerate_all_2d_images\u001b[1;34m()\u001b[0m\n\u001b[0;32m    141\u001b[0m         \u001b[1;32mprint\u001b[0m\u001b[1;33m(\u001b[0m\u001b[0mimage_id\u001b[0m\u001b[1;33m)\u001b[0m\u001b[1;33m\u001b[0m\u001b[0m\n\u001b[0;32m    142\u001b[0m         \u001b[1;33m(\u001b[0m\u001b[0mimages_norm\u001b[0m\u001b[1;33m,\u001b[0m \u001b[0mlabel_image\u001b[0m\u001b[1;33m)\u001b[0m \u001b[1;33m=\u001b[0m \u001b[0mload_all_files\u001b[0m\u001b[1;33m(\u001b[0m\u001b[0mimage_id\u001b[0m\u001b[1;33m)\u001b[0m\u001b[1;33m\u001b[0m\u001b[0m\n\u001b[1;32m--> 143\u001b[1;33m         \u001b[1;32mfor\u001b[0m \u001b[1;33m(\u001b[0m\u001b[0mimage\u001b[0m\u001b[1;33m,\u001b[0m \u001b[0mlabel\u001b[0m\u001b[1;33m)\u001b[0m \u001b[1;32min\u001b[0m \u001b[0mgenerate_2d_images\u001b[0m\u001b[1;33m(\u001b[0m\u001b[0mimages_norm\u001b[0m\u001b[1;33m,\u001b[0m \u001b[0mlabel_image\u001b[0m\u001b[1;33m)\u001b[0m\u001b[1;33m:\u001b[0m\u001b[1;33m\u001b[0m\u001b[0m\n\u001b[0m\u001b[0;32m    144\u001b[0m             \u001b[1;32mif\u001b[0m \u001b[1;33m(\u001b[0m\u001b[0mnp\u001b[0m\u001b[1;33m.\u001b[0m\u001b[0mmax\u001b[0m\u001b[1;33m(\u001b[0m\u001b[0mimage\u001b[0m\u001b[1;33m)\u001b[0m \u001b[1;33m-\u001b[0m \u001b[0mnp\u001b[0m\u001b[1;33m.\u001b[0m\u001b[0mmin\u001b[0m\u001b[1;33m(\u001b[0m\u001b[0mimage\u001b[0m\u001b[1;33m)\u001b[0m \u001b[1;33m<\u001b[0m \u001b[1;36m0.1\u001b[0m\u001b[1;33m)\u001b[0m\u001b[1;33m:\u001b[0m\u001b[1;33m\u001b[0m\u001b[0m\n\u001b[0;32m    145\u001b[0m                 \u001b[1;32mcontinue\u001b[0m\u001b[1;33m\u001b[0m\u001b[0m\n",
      "\u001b[1;32m<ipython-input-13-03b36c916e03>\u001b[0m in \u001b[0;36mgenerate_2d_images\u001b[1;34m(images_norm, label_image)\u001b[0m\n\u001b[0;32m    133\u001b[0m             \u001b[0mlabel\u001b[0m \u001b[1;33m=\u001b[0m \u001b[0mNone\u001b[0m\u001b[1;33m\u001b[0m\u001b[0m\n\u001b[0;32m    134\u001b[0m             \u001b[1;32mif\u001b[0m \u001b[0mlabel_image\u001b[0m \u001b[1;33m!=\u001b[0m \u001b[0mNone\u001b[0m\u001b[1;33m:\u001b[0m\u001b[1;33m\u001b[0m\u001b[0m\n\u001b[1;32m--> 135\u001b[1;33m                 \u001b[0mlabel\u001b[0m \u001b[1;33m=\u001b[0m \u001b[0mdecompose_label\u001b[0m\u001b[1;33m(\u001b[0m\u001b[0mlabel_image\u001b[0m\u001b[1;33m[\u001b[0m\u001b[0mz\u001b[0m\u001b[1;33m,\u001b[0m\u001b[1;33m:\u001b[0m\u001b[1;33m,\u001b[0m\u001b[1;33m:\u001b[0m\u001b[1;33m]\u001b[0m\u001b[1;33m)\u001b[0m\u001b[1;33m\u001b[0m\u001b[0m\n\u001b[0m\u001b[0;32m    136\u001b[0m         \u001b[1;32myield\u001b[0m \u001b[1;33m(\u001b[0m\u001b[0mimage\u001b[0m\u001b[1;33m,\u001b[0m \u001b[0mlabel\u001b[0m\u001b[1;33m)\u001b[0m\u001b[1;33m\u001b[0m\u001b[0m\n\u001b[0;32m    137\u001b[0m \u001b[1;33m\u001b[0m\u001b[0m\n",
      "\u001b[1;32m<ipython-input-13-03b36c916e03>\u001b[0m in \u001b[0;36mdecompose_label\u001b[1;34m(label_image)\u001b[0m\n\u001b[0;32m    108\u001b[0m     \u001b[1;32mfor\u001b[0m \u001b[0mx\u001b[0m \u001b[1;32min\u001b[0m \u001b[0mrange\u001b[0m\u001b[1;33m(\u001b[0m\u001b[0mw\u001b[0m\u001b[1;33m)\u001b[0m\u001b[1;33m:\u001b[0m\u001b[1;33m\u001b[0m\u001b[0m\n\u001b[0;32m    109\u001b[0m         \u001b[1;32mfor\u001b[0m \u001b[0my\u001b[0m \u001b[1;32min\u001b[0m \u001b[0mrange\u001b[0m\u001b[1;33m(\u001b[0m\u001b[0mh\u001b[0m\u001b[1;33m)\u001b[0m\u001b[1;33m:\u001b[0m\u001b[1;33m\u001b[0m\u001b[0m\n\u001b[1;32m--> 110\u001b[1;33m             \u001b[0moutput\u001b[0m\u001b[1;33m[\u001b[0m\u001b[0mx\u001b[0m\u001b[1;33m,\u001b[0m\u001b[0my\u001b[0m\u001b[1;33m,\u001b[0m\u001b[0mlabel_image\u001b[0m\u001b[1;33m[\u001b[0m\u001b[0mx\u001b[0m\u001b[1;33m,\u001b[0m\u001b[0my\u001b[0m\u001b[1;33m]\u001b[0m\u001b[1;33m]\u001b[0m \u001b[1;33m=\u001b[0m \u001b[1;36m1.0\u001b[0m\u001b[1;33m\u001b[0m\u001b[0m\n\u001b[0m\u001b[0;32m    111\u001b[0m     \u001b[1;32mreturn\u001b[0m \u001b[0moutput\u001b[0m\u001b[1;33m\u001b[0m\u001b[0m\n\u001b[0;32m    112\u001b[0m \u001b[1;33m\u001b[0m\u001b[0m\n",
      "\u001b[1;31mKeyboardInterrupt\u001b[0m: "
     ]
    }
   ],
   "source": [
    "image_generation()"
   ]
  },
  {
   "cell_type": "code",
   "execution_count": 103,
   "metadata": {
    "collapsed": false
   },
   "outputs": [
    {
     "name": "stdout",
     "output_type": "stream",
     "text": [
      "('data/Images/HG/0001', (176, 216, 160))\n",
      "('data/Images/HG/0002', (176, 216, 160))\n",
      "('data/Images/HG/0003', (176, 216, 176))\n",
      "('data/Images/HG/0004', (176, 216, 160))\n",
      "('data/Images/HG/0005', (176, 216, 160))\n",
      "('data/Images/HG/0006', (176, 236, 216))\n",
      "('data/Images/HG/0007', (176, 216, 176))\n",
      "('data/Images/HG/0008', (176, 216, 160))\n",
      "('data/Images/HG/0009', (176, 216, 160))\n",
      "('data/Images/HG/0010', (176, 216, 160))\n",
      "('data/Images/HG/0011', (176, 216, 176))\n",
      "('data/Images/HG/0012', (176, 216, 176))\n",
      "('data/Images/HG/0013', (176, 216, 176))\n",
      "('data/Images/HG/0014', (176, 216, 176))\n",
      "('data/Images/HG/0015', (176, 216, 160))\n",
      "('data/Images/HG/0022', (165, 230, 230))\n",
      "('data/Images/HG/0024', (240, 240, 168))\n",
      "('data/Images/HG/0025', (230, 230, 162))\n",
      "('data/Images/HG/0026', (220, 220, 168))\n",
      "('data/Images/HG/0027', (230, 230, 162))\n",
      "('data/Images/LG/0001', (176, 196, 216))\n",
      "('data/Images/LG/0002', (176, 236, 216))\n",
      "('data/Images/LG/0004', (176, 236, 216))\n",
      "('data/Images/LG/0006', (196, 216, 159))\n",
      "('data/Images/LG/0008', (176, 236, 216))\n",
      "('data/Images/LG/0011', (230, 230, 162))\n",
      "('data/Images/LG/0012', (165, 230, 230))\n",
      "('data/Images/LG/0013', (220, 220, 168))\n",
      "('data/Images/LG/0014', (230, 230, 162))\n",
      "('data/Images/LG/0015', (163, 230, 230))\n",
      "5633\n"
     ]
    }
   ],
   "source": [
    "image_ids = sorted(glob.glob('data/Images/*/*'))\n",
    "nb_images = 0\n",
    "for image_id in image_ids:\n",
    "    (images_norm, label_image) = load_all_files(image_id)\n",
    "    nb_images += images_norm[0].shape[0]\n",
    "    print(image_id, images_norm[0].shape)\n",
    "print(nb_images)"
   ]
  },
  {
   "cell_type": "markdown",
   "metadata": {},
   "source": [
    "### Testing"
   ]
  },
  {
   "cell_type": "code",
   "execution_count": 15,
   "metadata": {
    "collapsed": true
   },
   "outputs": [],
   "source": [
    "def get_challenge_image_id(path):\n",
    "    return re.split('\\.', glob.glob(os.path.join(path, '*Flair*/*.mha'))[0])[-2]"
   ]
  },
  {
   "cell_type": "code",
   "execution_count": 24,
   "metadata": {
    "collapsed": false
   },
   "outputs": [],
   "source": [
    "def write_outputs(image_ids):\n",
    "    #image_ids = glob.glob('%s/*' % base_path)\n",
    "    for image_id in image_ids:\n",
    "        print(image_id)\n",
    "        image_challenge_id = get_challenge_image_id(image_id)\n",
    "\n",
    "        subpaths = [re.split('/', xxx)[-1] for xxx in glob.glob(image_id + \"/*\")]\n",
    "        images_norm = list(load_images(image_id, subpaths))\n",
    "        d, w, h = images_norm[0].shape\n",
    "        output_image = np.zeros((d,w,h), dtype=np.uint16)\n",
    "        image_batch = np.zeros((1,w,h,n_channels), dtype=np.float32)\n",
    "        for idx, (image, _) in enumerate(generate_2d_images(images_norm, None)):\n",
    "            if (np.max(image) - np.min(image) < 0.1):\n",
    "                continue\n",
    "            image_batch[0] = image\n",
    "            out = sess.run(tf.nn.softmax(pred_reshape), feed_dict={x: image_batch})\n",
    "            _out = np.reshape(out, (batch_size, width, height, n_classes))            \n",
    "            output_image[idx, :, :] = numpy.argmax(_out, axis=3)\n",
    "    \n",
    "        # resize to original\n",
    "        _, org_width, org_height = get_image_size(image_id, subpaths[0])\n",
    "        output = adjust_3d_size(output_image, org_width, org_height)\n",
    "        yield (images_norm, output_image, output)\n",
    "        # return output\n",
    "        sitk.WriteImage(sitk.GetImageFromArray(output), 'output/VSD.MBZ_test_0001.%s.mha' % image_challenge_id)"
   ]
  },
  {
   "cell_type": "code",
   "execution_count": 25,
   "metadata": {
    "collapsed": false
   },
   "outputs": [
    {
     "name": "stdout",
     "output_type": "stream",
     "text": [
      "data/Images/HG/0001\n"
     ]
    }
   ],
   "source": [
    "# output = write_outputs('data/Challenge/HG')\n",
    "# write_outputs('data/2015')\n",
    "(images_norm, output_image, output) = next(write_outputs(image_ids=sorted(glob.glob('data/Images/*/*'))))"
   ]
  },
  {
   "cell_type": "code",
   "execution_count": 31,
   "metadata": {
    "collapsed": false
   },
   "outputs": [
    {
     "data": {
      "text/plain": [
       "<matplotlib.colorbar.Colorbar at 0x7f261a6b3d10>"
      ]
     },
     "execution_count": 31,
     "metadata": {},
     "output_type": "execute_result"
    },
    {
     "data": {
      "image/png": "[encoded data removed]",
      "text/plain": [
       "<matplotlib.figure.Figure at 0x7f262814fe10>"
      ]
     },
     "metadata": {},
     "output_type": "display_data"
    }
   ],
   "source": [
    "plt.imshow(images_norm[4][100,:,:])\n",
    "plt.colorbar()"
   ]
  },
  {
   "cell_type": "code",
   "execution_count": 33,
   "metadata": {
    "collapsed": false
   },
   "outputs": [
    {
     "data": {
      "text/plain": [
       "<matplotlib.colorbar.Colorbar at 0x7f261930d5d0>"
      ]
     },
     "execution_count": 33,
     "metadata": {},
     "output_type": "execute_result"
    },
    {
     "data": {
      "image/png": "[encoded data removed]",
      "text/plain": [
       "<matplotlib.figure.Figure at 0x7f261a604450>"
      ]
     },
     "metadata": {},
     "output_type": "display_data"
    }
   ],
   "source": [
    "plt.imshow(output_image[100,:,:])\n",
    "plt.colorbar()"
   ]
  },
  {
   "cell_type": "code",
   "execution_count": 17,
   "metadata": {
    "collapsed": false
   },
   "outputs": [
    {
     "data": {
      "text/plain": [
       "<matplotlib.colorbar.Colorbar at 0x7fda58187150>"
      ]
     },
     "execution_count": 17,
     "metadata": {},
     "output_type": "execute_result"
    },
    {
     "data": {
      "image/png": "[encoded data removed]",
      "text/plain": [
       "<matplotlib.figure.Figure at 0x7fda584eb1d0>"
      ]
     },
     "metadata": {},
     "output_type": "display_data"
    }
   ],
   "source": [
    "plt.imshow(output[120,:,:])\n",
    "plt.colorbar()"
   ]
  },
  {
   "cell_type": "code",
   "execution_count": 45,
   "metadata": {
    "collapsed": false
   },
   "outputs": [],
   "source": [
    "image = sitk.ReadImage('data/Challenge/HG/0301/VSD.Brain.XX.O.MR_Flair/VSD.Brain.XX.O.MR_Flair.17572.mha')\n",
    "arr = sitk.GetArrayFromImage(image)\n",
    "_, width, height = arr.shape"
   ]
  },
  {
   "cell_type": "code",
   "execution_count": 46,
   "metadata": {
    "collapsed": false
   },
   "outputs": [
    {
     "data": {
      "text/plain": [
       "(140, 180, 158)"
      ]
     },
     "execution_count": 46,
     "metadata": {},
     "output_type": "execute_result"
    }
   ],
   "source": [
    "arr.shape"
   ]
  },
  {
   "cell_type": "code",
   "execution_count": 47,
   "metadata": {
    "collapsed": false
   },
   "outputs": [],
   "source": [
    "image = sitk.ReadImage('output/VSD.MBZ_test_0001.17572.mha')\n",
    "arr = sitk.GetArrayFromImage(image)\n",
    "# arr_resized = adjust_3d_size(arr)"
   ]
  },
  {
   "cell_type": "code",
   "execution_count": 48,
   "metadata": {
    "collapsed": false
   },
   "outputs": [
    {
     "data": {
      "text/plain": [
       "(140, 180, 158)"
      ]
     },
     "execution_count": 48,
     "metadata": {},
     "output_type": "execute_result"
    }
   ],
   "source": [
    "arr_resized.shape"
   ]
  },
  {
   "cell_type": "code",
   "execution_count": 16,
   "metadata": {
    "collapsed": false
   },
   "outputs": [
    {
     "data": {
      "text/plain": [
       "<matplotlib.colorbar.Colorbar at 0x7fceae3f6850>"
      ]
     },
     "execution_count": 16,
     "metadata": {},
     "output_type": "execute_result"
    },
    {
     "data": {
      "image/png": "[encoded data removed]",
      "text/plain": [
       "<matplotlib.figure.Figure at 0x7fceae74b410>"
      ]
     },
     "metadata": {},
     "output_type": "display_data"
    }
   ],
   "source": [
    "plt.imshow(arr_resized[50,:,:])\n",
    "plt.colorbar()"
   ]
  },
  {
   "cell_type": "code",
   "execution_count": null,
   "metadata": {
    "collapsed": true
   },
   "outputs": [],
   "source": []
  }
 ],
 "metadata": {
  "kernelspec": {
   "display_name": "Python 2",
   "language": "python",
   "name": "python2"
  },
  "language_info": {
   "codemirror_mode": {
    "name": "ipython",
    "version": 2
   },
   "file_extension": ".py",
   "mimetype": "text/x-python",
   "name": "python",
   "nbconvert_exporter": "python",
   "pygments_lexer": "ipython2",
   "version": "2.7.11"
  }
 },
 "nbformat": 4,
 "nbformat_minor": 0
}
