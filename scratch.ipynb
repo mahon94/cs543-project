{
 "cells": [
  {
   "cell_type": "code",
   "execution_count": 78,
   "metadata": {
    "collapsed": false
   },
   "outputs": [],
   "source": [
    "import SimpleITK as sitk\n",
    "import numpy as np\n",
    "import scipy as sp\n",
    "import os\n",
    "import matplotlib.pyplot as plt\n",
    "import scipy as sc\n",
    "import pandas as pd\n",
    "# import matplotlib as plt\n",
    "from collections import Counter\n",
    "%matplotlib inline"
   ]
  },
  {
   "cell_type": "code",
   "execution_count": 50,
   "metadata": {
    "collapsed": true
   },
   "outputs": [],
   "source": [
    "def find_files_in_dir(path, endswith):\n",
    "    for _file in os.listdir(path):\n",
    "        if _file.endswith(endswith):\n",
    "            yield _file"
   ]
  },
  {
   "cell_type": "code",
   "execution_count": 51,
   "metadata": {
    "collapsed": true
   },
   "outputs": [],
   "source": [
    "def load_images(path, subpaths):\n",
    "    for sp in subpaths:\n",
    "        fullpath = os.path.join(path, sp)\n",
    "        image_files = list(find_files_in_dir(fullpath, 'mha'))\n",
    "        assert len(image_files) == 1\n",
    "        image = sitk.ReadImage(os.path.join(fullpath, image_files[0]))\n",
    "        yield sitk.GetArrayFromImage(image)"
   ]
  },
  {
   "cell_type": "code",
   "execution_count": 52,
   "metadata": {
    "collapsed": true
   },
   "outputs": [],
   "source": [
    "def merge_images_into_channels(images):\n",
    "    image = np.zeros((len(images), images.shape[0], images.shape[1]))\n",
    "    for i, img in images:\n",
    "        image[i, :, :] = img\n",
    "    return image"
   ]
  },
  {
   "cell_type": "code",
   "execution_count": 53,
   "metadata": {
    "collapsed": true
   },
   "outputs": [],
   "source": [
    "def normalize_images(images):\n",
    "    out = []\n",
    "    for image in images:\n",
    "        # mean = np.mean(image)\n",
    "        # std = np.std(image)\n",
    "        # out.append((image - mean) / std)\n",
    "        out.append(np.uint8(image * 255.0 / np.max(image)))\n",
    "    return out"
   ]
  },
  {
   "cell_type": "code",
   "execution_count": 54,
   "metadata": {
    "collapsed": false
   },
   "outputs": [],
   "source": [
    "def show_images(images, label_image, Z):\n",
    "    f, ((ax1, ax2, ax3, ax4, ax5)) = plt.subplots(1, 5)\n",
    "    ax = [ax1, ax2, ax3, ax4]\n",
    "    for i in range(channels):\n",
    "        cax = ax[i].imshow(images[i][Z,:,:])\n",
    "        ax[i].axis('off')\n",
    "        f.colorbar(cax, ax = ax[i])\n",
    "\n",
    "    ax5.imshow(label_image[Z,:,:])\n",
    "    ax5.axis('off')\n",
    "    \n",
    "    fig = plt.gcf()\n",
    "    fig.set_size_inches(23, 4)    \n"
   ]
  },
  {
   "cell_type": "code",
   "execution_count": 55,
   "metadata": {
    "collapsed": true
   },
   "outputs": [],
   "source": [
    "def get_patch(images, x, y, z, size):\n",
    "    patches = [image[z, x-size/2:x+size/2, y-size/2:y+size/2] for image in images]\n",
    "    return patches"
   ]
  },
  {
   "cell_type": "code",
   "execution_count": 56,
   "metadata": {
    "collapsed": true
   },
   "outputs": [],
   "source": [
    "def get_label(label_image, x, y, z):\n",
    "    out = np.zeros(label_count)\n",
    "    out[label_image[z,x,y]] = 1\n",
    "    return out > 0"
   ]
  },
  {
   "cell_type": "code",
   "execution_count": 9,
   "metadata": {
    "collapsed": false
   },
   "outputs": [],
   "source": [
    "path = 'data/0001/'\n",
    "subpaths = ['VSD.Brain.XX.O.MR_Flair', 'VSD.Brain.XX.O.MR_T1', 'VSD.Brain.XX.O.MR_T1c', 'VSD.Brain.XX.O.MR_T2']\n",
    "label_path = 'VSD.Brain_3more.XX.XX.OT'\n",
    "\n",
    "images = list(load_images(path, subpaths))\n",
    "images_norm = normalize_images(images)\n",
    "label_image = list(load_images(path, [label_path]))[0]"
   ]
  },
  {
   "cell_type": "code",
   "execution_count": null,
   "metadata": {
    "collapsed": false,
    "scrolled": true
   },
   "outputs": [],
   "source": [
    "show_images(images, label_image, 50)\n",
    "show_images(images, label_image, 75)\n",
    "show_images(images, label_image, 100)\n",
    "show_images(images, label_image, 125)"
   ]
  },
  {
   "cell_type": "code",
   "execution_count": null,
   "metadata": {
    "collapsed": true
   },
   "outputs": [],
   "source": []
  },
  {
   "cell_type": "code",
   "execution_count": null,
   "metadata": {
    "collapsed": true
   },
   "outputs": [],
   "source": [
    "c = Counter()\n",
    "c.update(label_image.ravel())\n",
    "c"
   ]
  },
  {
   "cell_type": "code",
   "execution_count": null,
   "metadata": {
    "collapsed": false
   },
   "outputs": [],
   "source": []
  },
  {
   "cell_type": "code",
   "execution_count": 11,
   "metadata": {
    "collapsed": false
   },
   "outputs": [
    {
     "name": "stdout",
     "output_type": "stream",
     "text": [
      "4036032\n"
     ]
    }
   ],
   "source": [
    "shape = images[0].shape\n",
    "\n",
    "patch_size = 34\n",
    "channels = len(images)\n",
    "label_count = 5\n",
    "\n",
    "total_count = (shape[1]-patch_size) * (shape[2]-patch_size) * shape[0]\n",
    "print(total_count)"
   ]
  },
  {
   "cell_type": "code",
   "execution_count": 13,
   "metadata": {
    "collapsed": false
   },
   "outputs": [],
   "source": [
    "def batch_data_generator(images_norm, label_image, batch_size):\n",
    "    X = np.zeros((batch_size, channels, patch_size, patch_size))\n",
    "    Y = np.zeros((batch_size, label_count))\n",
    "    i = 0\n",
    "    for z in range(shape[0]):\n",
    "        for x in range(patch_size/2, shape[1]-patch_size/2):\n",
    "            for y in range(patch_size/2, shape[2]-patch_size/2):\n",
    "                patch = get_patch(images_norm, x, y, z, patch_size)\n",
    "                   \n",
    "                X[i,:,:,:] = patch\n",
    "                Y[i,:] = get_label(label_image, x, y, z)\n",
    "                i += 1\n",
    "                if i % batch_size == 0:\n",
    "                    i = 0\n",
    "                    yield (X, Y)\n"
   ]
  },
  {
   "cell_type": "markdown",
   "metadata": {},
   "source": [
    "# Data Generation"
   ]
  },
  {
   "cell_type": "code",
   "execution_count": 14,
   "metadata": {
    "collapsed": false
   },
   "outputs": [],
   "source": [
    "def generate_all_patches(images_norm, label_image):\n",
    "    i = ii = 0\n",
    "    with open('data/patches.txt', 'w') as f:\n",
    "        for z in range(shape[0]):\n",
    "            for x in range(patch_size/2, shape[1]-patch_size/2):\n",
    "                for y in range(patch_size/2, shape[2]-patch_size/2):\n",
    "                    i += 1\n",
    "                    if i % 100000 == 0:\n",
    "                        print('%d/%d:%d' % (i, total_count, ii))\n",
    "                    \n",
    "                    patch = get_patch(images_norm, x, y, z, patch_size)\n",
    "\n",
    "                    ratio = float(np.sum(patch)) / patch_size / patch_size / channels\n",
    "                    if ratio < 0.25:\n",
    "                        continue\n",
    "\n",
    "                    label = label_image[z,x,y]\n",
    "                    \n",
    "                    ii += 1\n",
    "                    for c in range(channels):\n",
    "                        sub_dir = '%08d' % (ii / 1000)\n",
    "                        filename = '/home/ubuntu/projects/BRATS/data/patches/%d/%s/patch_%d_%d_%d_%d.png' % (c, sub_dir, x, y, z, label)\n",
    "                        # sp.misc.imsave(filename, patch[c])\n",
    "                        directory = os.path.dirname(filename)\n",
    "                        if not os.path.exists(directory):\n",
    "                            os.makedirs(directory)                        \n",
    "                        plt.image.imsave(filename, patch[c])\n",
    "                        f.write('%s\\t%d\\n' % (filename, label))"
   ]
  },
  {
   "cell_type": "code",
   "execution_count": null,
   "metadata": {
    "collapsed": false,
    "scrolled": true
   },
   "outputs": [
    {
     "name": "stdout",
     "output_type": "stream",
     "text": [
      "100000/4036032:0\n",
      "200000/4036032:0\n",
      "300000/4036032:0\n",
      "400000/4036032:0\n",
      "500000/4036032:0\n",
      "600000/4036032:0"
     ]
    }
   ],
   "source": [
    "generate_all_patches(images_norm, label_image)"
   ]
  },
  {
   "cell_type": "markdown",
   "metadata": {},
   "source": [
    "# Stat Generation"
   ]
  },
  {
   "cell_type": "code",
   "execution_count": 62,
   "metadata": {
    "collapsed": false
   },
   "outputs": [],
   "source": [
    "def generate_all_patch_indices(image_id, images_norm, label_image):\n",
    "    i = 0\n",
    "    for z in range(shape[0]):\n",
    "        for x in range(patch_size/2, shape[1]-patch_size/2):\n",
    "            for y in range(patch_size/2, shape[2]-patch_size/2):\n",
    "                i += 1\n",
    "                if i % 100000 == 0:\n",
    "                    print('%d/%d' % (i, total_count))\n",
    "\n",
    "                patch = get_patch(images_norm, x, y, z, patch_size)\n",
    "\n",
    "                ratio = np.mean(patch) / 255.0\n",
    "                if ratio < 0.1:\n",
    "                    continue\n",
    "\n",
    "                label = label_image[z,x,y]\n",
    "                \n",
    "                with open('/home/ubuntu/projects/BRATS/data/Patches/patch_indices_%04d_%d.txt' % (image_id, label), 'a') as f:\n",
    "                    f.write('%d,%d,%d\\n' % (x, y, z))"
   ]
  },
  {
   "cell_type": "code",
   "execution_count": 77,
   "metadata": {
    "collapsed": false,
    "scrolled": true
   },
   "outputs": [
    {
     "name": "stdout",
     "output_type": "stream",
     "text": [
      "====================\n",
      "1\n",
      "====================\n",
      "100000/4036032\n",
      "200000/4036032\n",
      "300000/4036032\n",
      "400000/4036032\n",
      "500000/4036032\n",
      "600000/4036032\n",
      "700000/4036032\n",
      "800000/4036032\n",
      "900000/4036032\n",
      "1000000/4036032\n",
      "1100000/4036032\n",
      "1200000/4036032\n",
      "1300000/4036032\n",
      "1400000/4036032\n",
      "1500000/4036032\n",
      "1600000/4036032\n",
      "1700000/4036032\n",
      "1800000/4036032\n",
      "1900000/4036032\n",
      "2000000/4036032\n",
      "2100000/4036032\n",
      "2200000/4036032\n",
      "2300000/4036032\n",
      "2400000/4036032\n",
      "2500000/4036032\n",
      "2600000/4036032\n",
      "2700000/4036032\n",
      "2800000/4036032\n",
      "2900000/4036032\n",
      "3000000/4036032\n",
      "3100000/4036032\n",
      "3200000/4036032\n",
      "3300000/4036032\n",
      "3400000/4036032\n",
      "3500000/4036032\n",
      "3600000/4036032\n",
      "3700000/4036032\n",
      "3800000/4036032\n",
      "3900000/4036032\n",
      "4000000/4036032\n",
      "====================\n",
      "2\n",
      "====================\n",
      "100000/4036032\n",
      "200000/4036032\n",
      "300000/4036032\n",
      "400000/4036032\n",
      "500000/4036032\n",
      "600000/4036032\n",
      "700000/4036032\n",
      "800000/4036032\n",
      "900000/4036032\n",
      "1000000/4036032\n",
      "1100000/4036032\n",
      "1200000/4036032\n",
      "1300000/4036032\n",
      "1400000/4036032\n",
      "1500000/4036032\n",
      "1600000/4036032\n",
      "1700000/4036032\n",
      "1800000/4036032\n",
      "1900000/4036032\n",
      "2000000/4036032\n",
      "2100000/4036032\n",
      "2200000/4036032\n",
      "2300000/4036032\n",
      "2400000/4036032\n",
      "2500000/4036032\n",
      "2600000/4036032\n",
      "2700000/4036032\n",
      "2800000/4036032\n",
      "2900000/4036032\n",
      "3000000/4036032\n",
      "3100000/4036032\n",
      "3200000/4036032\n",
      "3300000/4036032\n",
      "3400000/4036032\n",
      "3500000/4036032\n",
      "3600000/4036032\n",
      "3700000/4036032\n",
      "3800000/4036032\n",
      "3900000/4036032\n",
      "4000000/4036032\n",
      "====================\n",
      "3\n",
      "====================\n",
      "100000/4036032\n",
      "200000/4036032\n",
      "300000/4036032\n",
      "400000/4036032\n",
      "500000/4036032\n",
      "600000/4036032\n",
      "700000/4036032\n",
      "800000/4036032\n",
      "900000/4036032\n",
      "1000000/4036032\n",
      "1100000/4036032\n",
      "1200000/4036032\n",
      "1300000/4036032\n",
      "1400000/4036032\n",
      "1500000/4036032\n",
      "1600000/4036032\n",
      "1700000/4036032\n",
      "1800000/4036032\n",
      "1900000/4036032\n",
      "2000000/4036032\n",
      "2100000/4036032\n",
      "2200000/4036032\n",
      "2300000/4036032\n",
      "2400000/4036032\n",
      "2500000/4036032\n",
      "2600000/4036032\n",
      "2700000/4036032\n",
      "2800000/4036032\n",
      "2900000/4036032\n",
      "3000000/4036032\n",
      "3100000/4036032\n",
      "3200000/4036032\n",
      "3300000/4036032\n",
      "3400000/4036032\n",
      "3500000/4036032\n",
      "3600000/4036032\n",
      "3700000/4036032\n",
      "3800000/4036032\n",
      "3900000/4036032\n",
      "4000000/4036032\n",
      "====================\n",
      "4\n",
      "====================\n",
      "100000/4036032\n",
      "200000/4036032\n",
      "300000/4036032\n",
      "400000/4036032\n",
      "500000/4036032\n",
      "600000/4036032\n",
      "700000/4036032\n",
      "800000/4036032\n",
      "900000/4036032\n",
      "1000000/4036032\n",
      "1100000/4036032\n",
      "1200000/4036032\n",
      "1300000/4036032\n",
      "1400000/4036032\n",
      "1500000/4036032\n",
      "1600000/4036032\n",
      "1700000/4036032\n",
      "1800000/4036032\n",
      "1900000/4036032\n",
      "2000000/4036032\n",
      "2100000/4036032\n",
      "2200000/4036032\n",
      "2300000/4036032\n",
      "2400000/4036032\n",
      "2500000/4036032\n",
      "2600000/4036032\n",
      "2700000/4036032\n",
      "2800000/4036032\n",
      "2900000/4036032\n",
      "3000000/4036032\n",
      "3100000/4036032\n",
      "3200000/4036032\n",
      "3300000/4036032\n",
      "3400000/4036032\n",
      "3500000/4036032\n",
      "3600000/4036032\n",
      "3700000/4036032\n",
      "3800000/4036032\n",
      "3900000/4036032\n",
      "4000000/4036032\n",
      "====================\n",
      "5\n",
      "====================\n",
      "100000/4036032\n",
      "200000/4036032\n",
      "300000/4036032\n",
      "400000/4036032\n",
      "500000/4036032\n",
      "600000/4036032\n",
      "700000/4036032\n",
      "800000/4036032\n",
      "900000/4036032\n",
      "1000000/4036032\n",
      "1100000/4036032\n",
      "1200000/4036032\n",
      "1300000/4036032\n",
      "1400000/4036032\n",
      "1500000/4036032\n",
      "1600000/4036032\n",
      "1700000/4036032\n",
      "1800000/4036032\n",
      "1900000/4036032\n",
      "2000000/4036032\n",
      "2100000/4036032\n",
      "2200000/4036032\n",
      "2300000/4036032\n",
      "2400000/4036032\n",
      "2500000/4036032\n",
      "2600000/4036032\n",
      "2700000/4036032\n",
      "2800000/4036032\n",
      "2900000/4036032\n",
      "3000000/4036032\n",
      "3100000/4036032\n",
      "3200000/4036032\n",
      "3300000/4036032\n",
      "3400000/4036032\n",
      "3500000/4036032\n",
      "3600000/4036032\n",
      "3700000/4036032\n",
      "3800000/4036032\n",
      "3900000/4036032\n",
      "4000000/4036032\n",
      "====================\n",
      "6\n",
      "====================\n",
      "100000/4036032\n",
      "200000/4036032\n",
      "300000/4036032\n",
      "400000/4036032\n",
      "500000/4036032\n",
      "600000/4036032\n",
      "700000/4036032\n",
      "800000/4036032\n",
      "900000/4036032\n",
      "1000000/4036032\n",
      "1100000/4036032\n",
      "1200000/4036032\n",
      "1300000/4036032\n",
      "1400000/4036032\n",
      "1500000/4036032\n",
      "1600000/4036032\n",
      "1700000/4036032\n",
      "1800000/4036032\n",
      "1900000/4036032\n",
      "2000000/4036032\n",
      "2100000/4036032\n",
      "2200000/4036032\n",
      "2300000/4036032\n",
      "2400000/4036032\n",
      "2500000/4036032\n",
      "2600000/4036032\n",
      "2700000/4036032\n",
      "2800000/4036032\n",
      "2900000/4036032\n",
      "3000000/4036032\n",
      "3100000/4036032\n",
      "3200000/4036032\n",
      "3300000/4036032\n",
      "3400000/4036032\n",
      "3500000/4036032\n",
      "3600000/4036032\n",
      "3700000/4036032\n",
      "3800000/4036032\n",
      "3900000/4036032\n",
      "4000000/4036032\n",
      "====================\n",
      "7\n",
      "====================\n",
      "100000/4036032\n",
      "200000/4036032\n",
      "300000/4036032\n",
      "400000/4036032\n",
      "500000/4036032\n",
      "600000/4036032\n",
      "700000/4036032\n",
      "800000/4036032\n",
      "900000/4036032\n",
      "1000000/4036032\n",
      "1100000/4036032\n",
      "1200000/4036032\n",
      "1300000/4036032\n",
      "1400000/4036032\n",
      "1500000/4036032\n",
      "1600000/4036032\n",
      "1700000/4036032\n",
      "1800000/4036032\n",
      "1900000/4036032\n",
      "2000000/4036032\n",
      "2100000/4036032\n",
      "2200000/4036032\n",
      "2300000/4036032\n",
      "2400000/4036032\n",
      "2500000/4036032\n",
      "2600000/4036032\n",
      "2700000/4036032\n",
      "2800000/4036032\n",
      "2900000/4036032\n",
      "3000000/4036032\n",
      "3100000/4036032\n",
      "3200000/4036032\n",
      "3300000/4036032\n",
      "3400000/4036032\n",
      "3500000/4036032\n",
      "3600000/4036032\n",
      "3700000/4036032\n",
      "3800000/4036032\n",
      "3900000/4036032\n",
      "4000000/4036032\n",
      "====================\n",
      "8\n",
      "====================\n",
      "100000/4036032\n",
      "200000/4036032\n",
      "300000/4036032\n",
      "400000/4036032\n",
      "500000/4036032\n",
      "600000/4036032\n",
      "700000/4036032\n",
      "800000/4036032\n",
      "900000/4036032\n",
      "1000000/4036032\n",
      "1100000/4036032\n",
      "1200000/4036032\n",
      "1300000/4036032\n",
      "1400000/4036032\n",
      "1500000/4036032\n",
      "1600000/4036032\n",
      "1700000/4036032\n",
      "1800000/4036032\n",
      "1900000/4036032\n",
      "2000000/4036032\n",
      "2100000/4036032\n",
      "2200000/4036032\n",
      "2300000/4036032\n",
      "2400000/4036032\n",
      "2500000/4036032\n",
      "2600000/4036032\n",
      "2700000/4036032\n",
      "2800000/4036032\n",
      "2900000/4036032\n",
      "3000000/4036032\n",
      "3100000/4036032\n",
      "3200000/4036032\n",
      "3300000/4036032\n",
      "3400000/4036032\n",
      "3500000/4036032\n",
      "3600000/4036032\n",
      "3700000/4036032\n",
      "3800000/4036032\n",
      "3900000/4036032\n",
      "4000000/4036032\n",
      "====================\n",
      "9\n",
      "====================\n",
      "100000/4036032\n",
      "200000/4036032\n",
      "300000/4036032\n",
      "400000/4036032\n",
      "500000/4036032\n",
      "600000/4036032\n",
      "700000/4036032\n",
      "800000/4036032\n",
      "900000/4036032\n",
      "1000000/4036032\n",
      "1100000/4036032\n",
      "1200000/4036032\n",
      "1300000/4036032\n",
      "1400000/4036032\n",
      "1500000/4036032\n",
      "1600000/4036032\n",
      "1700000/4036032\n",
      "1800000/4036032\n",
      "1900000/4036032\n",
      "2000000/4036032\n",
      "2100000/4036032\n",
      "2200000/4036032\n",
      "2300000/4036032\n",
      "2400000/4036032\n",
      "2500000/4036032\n",
      "2600000/4036032\n",
      "2700000/4036032\n",
      "2800000/4036032\n",
      "2900000/4036032\n",
      "3000000/4036032\n",
      "3100000/4036032\n",
      "3200000/4036032\n",
      "3300000/4036032\n",
      "3400000/4036032\n",
      "3500000/4036032\n",
      "3600000/4036032\n",
      "3700000/4036032\n",
      "3800000/4036032\n",
      "3900000/4036032\n",
      "4000000/4036032\n",
      "====================\n",
      "10\n",
      "====================\n",
      "100000/4036032\n",
      "200000/4036032\n",
      "300000/4036032\n",
      "400000/4036032\n",
      "500000/4036032\n",
      "600000/4036032\n",
      "700000/4036032\n",
      "800000/4036032\n",
      "900000/4036032\n",
      "1000000/4036032\n",
      "1100000/4036032\n",
      "1200000/4036032\n",
      "1300000/4036032\n",
      "1400000/4036032\n",
      "1500000/4036032\n",
      "1600000/4036032\n",
      "1700000/4036032\n",
      "1800000/4036032\n",
      "1900000/4036032\n",
      "2000000/4036032\n",
      "2100000/4036032\n",
      "2200000/4036032\n",
      "2300000/4036032\n",
      "2400000/4036032\n",
      "2500000/4036032\n",
      "2600000/4036032\n",
      "2700000/4036032\n",
      "2800000/4036032\n",
      "2900000/4036032\n",
      "3000000/4036032\n",
      "3100000/4036032\n",
      "3200000/4036032\n",
      "3300000/4036032\n",
      "3400000/4036032\n",
      "3500000/4036032\n",
      "3600000/4036032\n",
      "3700000/4036032\n",
      "3800000/4036032\n",
      "3900000/4036032\n",
      "4000000/4036032\n",
      "====================\n",
      "11\n",
      "====================\n",
      "100000/4036032\n",
      "200000/4036032\n",
      "300000/4036032\n",
      "400000/4036032\n",
      "500000/4036032\n",
      "600000/4036032\n",
      "700000/4036032\n",
      "800000/4036032\n",
      "900000/4036032\n",
      "1000000/4036032\n",
      "1100000/4036032\n",
      "1200000/4036032\n",
      "1300000/4036032\n",
      "1400000/4036032\n",
      "1500000/4036032\n",
      "1600000/4036032\n",
      "1700000/4036032\n",
      "1800000/4036032\n",
      "1900000/4036032\n",
      "2000000/4036032\n",
      "2100000/4036032\n",
      "2200000/4036032\n",
      "2300000/4036032\n",
      "2400000/4036032\n",
      "2500000/4036032\n",
      "2600000/4036032\n",
      "2700000/4036032\n",
      "2800000/4036032\n",
      "2900000/4036032\n",
      "3000000/4036032\n",
      "3100000/4036032\n",
      "3200000/4036032\n",
      "3300000/4036032\n",
      "3400000/4036032\n",
      "3500000/4036032\n",
      "3600000/4036032\n",
      "3700000/4036032\n",
      "3800000/4036032\n",
      "3900000/4036032\n",
      "4000000/4036032\n",
      "====================\n",
      "12\n",
      "====================\n",
      "100000/4036032\n",
      "200000/4036032\n",
      "300000/4036032\n",
      "400000/4036032\n",
      "500000/4036032\n",
      "600000/4036032\n",
      "700000/4036032\n",
      "800000/4036032\n",
      "900000/4036032\n",
      "1000000/4036032\n",
      "1100000/4036032\n",
      "1200000/4036032\n",
      "1300000/4036032\n",
      "1400000/4036032\n",
      "1500000/4036032\n",
      "1600000/4036032\n",
      "1700000/4036032\n",
      "1800000/4036032\n",
      "1900000/4036032\n",
      "2000000/4036032\n",
      "2100000/4036032\n",
      "2200000/4036032\n",
      "2300000/4036032\n",
      "2400000/4036032\n",
      "2500000/4036032\n",
      "2600000/4036032\n",
      "2700000/4036032\n",
      "2800000/4036032\n",
      "2900000/4036032\n",
      "3000000/4036032\n",
      "3100000/4036032\n",
      "3200000/4036032\n",
      "3300000/4036032\n",
      "3400000/4036032\n",
      "3500000/4036032\n",
      "3600000/4036032\n",
      "3700000/4036032\n",
      "3800000/4036032\n",
      "3900000/4036032\n",
      "4000000/4036032\n",
      "====================\n",
      "13\n",
      "====================\n",
      "100000/4036032\n",
      "200000/4036032\n",
      "300000/4036032\n",
      "400000/4036032\n",
      "500000/4036032\n",
      "600000/4036032\n",
      "700000/4036032\n",
      "800000/4036032\n",
      "900000/4036032\n",
      "1000000/4036032\n",
      "1100000/4036032\n",
      "1200000/4036032\n",
      "1300000/4036032\n",
      "1400000/4036032\n",
      "1500000/4036032\n",
      "1600000/4036032\n",
      "1700000/4036032\n",
      "1800000/4036032\n",
      "1900000/4036032\n",
      "2000000/4036032\n",
      "2100000/4036032\n",
      "2200000/4036032\n",
      "2300000/4036032\n",
      "2400000/4036032\n",
      "2500000/4036032\n",
      "2600000/4036032\n",
      "2700000/4036032\n",
      "2800000/4036032\n",
      "2900000/4036032\n",
      "3000000/4036032\n",
      "3100000/4036032\n",
      "3200000/4036032\n",
      "3300000/4036032\n",
      "3400000/4036032\n",
      "3500000/4036032\n",
      "3600000/4036032\n",
      "3700000/4036032\n",
      "3800000/4036032\n",
      "3900000/4036032\n",
      "4000000/4036032\n",
      "====================\n",
      "14\n",
      "====================\n",
      "100000/4036032\n",
      "200000/4036032\n",
      "300000/4036032\n",
      "400000/4036032\n",
      "500000/4036032\n",
      "600000/4036032\n",
      "700000/4036032\n",
      "800000/4036032\n",
      "900000/4036032\n",
      "1000000/4036032\n",
      "1100000/4036032\n",
      "1200000/4036032\n",
      "1300000/4036032\n",
      "1400000/4036032\n",
      "1500000/4036032\n",
      "1600000/4036032\n",
      "1700000/4036032\n",
      "1800000/4036032\n",
      "1900000/4036032\n",
      "2000000/4036032\n",
      "2100000/4036032\n",
      "2200000/4036032\n",
      "2300000/4036032\n",
      "2400000/4036032\n",
      "2500000/4036032\n",
      "2600000/4036032\n",
      "2700000/4036032\n",
      "2800000/4036032\n",
      "2900000/4036032\n",
      "3000000/4036032\n",
      "3100000/4036032\n",
      "3200000/4036032\n",
      "3300000/4036032\n",
      "3400000/4036032\n",
      "3500000/4036032\n",
      "3600000/4036032\n",
      "3700000/4036032\n",
      "3800000/4036032\n",
      "3900000/4036032\n",
      "4000000/4036032\n",
      "====================\n",
      "15\n",
      "====================\n",
      "100000/4036032\n",
      "200000/4036032\n",
      "300000/4036032\n",
      "400000/4036032\n",
      "500000/4036032\n",
      "600000/4036032\n",
      "700000/4036032\n",
      "800000/4036032\n",
      "900000/4036032\n",
      "1000000/4036032\n",
      "1100000/4036032\n",
      "1200000/4036032\n",
      "1300000/4036032\n",
      "1400000/4036032\n",
      "1500000/4036032\n",
      "1600000/4036032\n",
      "1700000/4036032\n",
      "1800000/4036032\n",
      "1900000/4036032\n",
      "2000000/4036032\n",
      "2100000/4036032\n",
      "2200000/4036032\n",
      "2300000/4036032\n",
      "2400000/4036032\n",
      "2500000/4036032\n",
      "2600000/4036032\n",
      "2700000/4036032\n",
      "2800000/4036032\n",
      "2900000/4036032\n",
      "3000000/4036032\n",
      "3100000/4036032\n",
      "3200000/4036032\n",
      "3300000/4036032\n",
      "3400000/4036032\n",
      "3500000/4036032\n",
      "3600000/4036032\n",
      "3700000/4036032\n",
      "3800000/4036032\n",
      "3900000/4036032\n",
      "4000000/4036032\n"
     ]
    }
   ],
   "source": [
    "for image_id in range(1,16):\n",
    "    print('=' * 20)\n",
    "    print(image_id)\n",
    "    print('=' * 20)\n",
    "   \n",
    "    path = 'data/Images/%04d/' % image_id\n",
    "    subpaths = ['VSD.Brain.XX.O.MR_Flair', 'VSD.Brain.XX.O.MR_T1', 'VSD.Brain.XX.O.MR_T1c', 'VSD.Brain.XX.O.MR_T2']\n",
    "    label_path = 'VSD.Brain_3more.XX.XX.OT'\n",
    "\n",
    "    images = list(load_images(path, subpaths))\n",
    "    images_norm = normalize_images(images)\n",
    "    label_image = list(load_images(path, [label_path]))[0]\n",
    "    \n",
    "    c = Counter()\n",
    "    c.update(label_image.ravel())\n",
    "    \n",
    "    with open('/home/ubuntu/projects/BRATS/data/Patches/label_count.txt', 'a') as f:\n",
    "        for key in range(10):\n",
    "            f.write('%d\\t' % c[key])        \n",
    "        f.write('\\n')\n",
    "    \n",
    "    generate_all_patch_indices(image_id, images_norm, label_image)"
   ]
  },
  {
   "cell_type": "code",
   "execution_count": null,
   "metadata": {
    "collapsed": true
   },
   "outputs": [],
   "source": []
  },
  {
   "cell_type": "markdown",
   "metadata": {},
   "source": [
    "# Priliminary Results"
   ]
  },
  {
   "cell_type": "code",
   "execution_count": 12,
   "metadata": {
    "collapsed": false
   },
   "outputs": [
    {
     "name": "stderr",
     "output_type": "stream",
     "text": [
      "Using Theano backend.\n",
      "/home/ubuntu/anaconda2/lib/python2.7/site-packages/theano/tensor/signal/downsample.py:5: UserWarning: downsample module has been moved to the pool module.\n",
      "  warnings.warn(\"downsample module has been moved to the pool module.\")\n"
     ]
    }
   ],
   "source": [
    "from keras.models import Sequential\n",
    "from keras.layers.convolutional import Convolution2D, MaxPooling2D\n",
    "from keras.layers.core import Dense, Dropout, Activation, Flatten\n",
    "from keras.optimizers import SGD\n",
    "\n",
    "def generate_model():\n",
    "    input_shape = (channels, patch_size, patch_size)\n",
    "\n",
    "    model = Sequential()\n",
    "\n",
    "    model.add(Convolution2D(128, 7, 7, input_shape=input_shape))\n",
    "    model.add(Activation('relu'))\n",
    "    model.add(MaxPooling2D(pool_size=(4, 4)))\n",
    "\n",
    "    model.add(Convolution2D(64, 3, 3))\n",
    "    model.add(Activation('relu'))\n",
    "    model.add(MaxPooling2D(pool_size=(2, 2)))\n",
    "\n",
    "    model.add(Flatten())\n",
    "    model.add(Dense(label_count))\n",
    "    model.add(Activation('softmax'))\n",
    "\n",
    "    # sgd = SGD(lr=0.1, decay=1e-6, momentum=0.9, nesterov=True)\n",
    "    model.compile(loss='categorical_crossentropy', optimizer='adam')\n",
    "    return model"
   ]
  },
  {
   "cell_type": "code",
   "execution_count": null,
   "metadata": {
    "collapsed": true
   },
   "outputs": [],
   "source": []
  },
  {
   "cell_type": "code",
   "execution_count": 131,
   "metadata": {
    "collapsed": true
   },
   "outputs": [],
   "source": [
    "def generate_all_patches_from_indices(image_id, images_norm):\n",
    "    indices = np.zeros(label_count)\n",
    "    label_indices = {}\n",
    "    for label in range(label_count):\n",
    "        filename = '/home/ubuntu/projects/BRATS/data/Patches/patch_indices_%04d_%d.txt' % (image_id, label)\n",
    "        data = pd.read_csv(filename, header=None)\n",
    "        data = data.iloc[np.random.permutation(len(data))]\n",
    "        label_indices[label] = data\n",
    "    \n",
    "    batch_len = 128\n",
    "    maxlen = 10000\n",
    "    \n",
    "    X = np.zeros((batch_len*label_count, channels, patch_size, patch_size))\n",
    "    Y = np.zeros((batch_len*label_count, label_count), dtype=bool)\n",
    "    X_ind = 0\n",
    "    for i in range(maxlen):\n",
    "        for label in range(label_count):\n",
    "            (x,y,z) = label_indices[label].iloc[indices[label]]\n",
    "            patch = get_patch(images_norm, x, y, z, patch_size)\n",
    "            X[X_ind] = patch\n",
    "            Y[X_ind, label] = True\n",
    "            \n",
    "            X_ind += 1\n",
    "            indices[label] += 1\n",
    "            indices[label] %= min(maxlen, len(label_indices[label]))\n",
    "            \n",
    "            if X_ind % label_count == 0:\n",
    "                X_ind = 0\n",
    "                yield (X, Y)"
   ]
  },
  {
   "cell_type": "code",
   "execution_count": null,
   "metadata": {
    "collapsed": true
   },
   "outputs": [],
   "source": []
  },
  {
   "cell_type": "code",
   "execution_count": 118,
   "metadata": {
    "collapsed": true
   },
   "outputs": [],
   "source": [
    "model = generate_model()"
   ]
  },
  {
   "cell_type": "code",
   "execution_count": 134,
   "metadata": {
    "collapsed": true
   },
   "outputs": [],
   "source": [
    "generator = generate_all_patches_from_indices(1, images_norm)"
   ]
  },
  {
   "cell_type": "code",
   "execution_count": 136,
   "metadata": {
    "collapsed": false
   },
   "outputs": [
    {
     "name": "stdout",
     "output_type": "stream",
     "text": [
      "Epoch 1/10\n"
     ]
    },
    {
     "name": "stderr",
     "output_type": "stream",
     "text": [
      "/home/ubuntu/anaconda2/lib/python2.7/site-packages/ipykernel/__main__.py:18: FutureWarning: scalar indexers for index type Int64Index should be integers and not floating point\n"
     ]
    },
    {
     "ename": "KeyboardInterrupt",
     "evalue": "",
     "output_type": "error",
     "traceback": [
      "\u001b[1;31m---------------------------------------------------------------------------\u001b[0m",
      "\u001b[1;31mKeyboardInterrupt\u001b[0m                         Traceback (most recent call last)",
      "\u001b[1;32m<ipython-input-136-20abb94fd3ac>\u001b[0m in \u001b[0;36m<module>\u001b[1;34m()\u001b[0m\n\u001b[0;32m      7\u001b[0m                     \u001b[0mvalidation_data\u001b[0m\u001b[1;33m=\u001b[0m\u001b[0mNone\u001b[0m\u001b[1;33m,\u001b[0m\u001b[1;33m\u001b[0m\u001b[0m\n\u001b[0;32m      8\u001b[0m                     \u001b[0mclass_weight\u001b[0m\u001b[1;33m=\u001b[0m\u001b[0mNone\u001b[0m\u001b[1;33m,\u001b[0m\u001b[1;33m\u001b[0m\u001b[0m\n\u001b[1;32m----> 9\u001b[1;33m                     nb_worker=1)\n\u001b[0m",
      "\u001b[1;32m/home/ubuntu/anaconda2/lib/python2.7/site-packages/keras/models.pyc\u001b[0m in \u001b[0;36mfit_generator\u001b[1;34m(self, generator, samples_per_epoch, nb_epoch, verbose, show_accuracy, callbacks, validation_data, class_weight, nb_worker)\u001b[0m\n\u001b[0;32m   1033\u001b[0m                                            \u001b[0maccuracy\u001b[0m\u001b[1;33m=\u001b[0m\u001b[0mshow_accuracy\u001b[0m\u001b[1;33m,\u001b[0m\u001b[1;33m\u001b[0m\u001b[0m\n\u001b[0;32m   1034\u001b[0m                                            \u001b[0msample_weight\u001b[0m\u001b[1;33m=\u001b[0m\u001b[0msample_weight\u001b[0m\u001b[1;33m,\u001b[0m\u001b[1;33m\u001b[0m\u001b[0m\n\u001b[1;32m-> 1035\u001b[1;33m                                            class_weight=class_weight)\n\u001b[0m\u001b[0;32m   1036\u001b[0m                 \u001b[1;32mif\u001b[0m \u001b[0mtype\u001b[0m\u001b[1;33m(\u001b[0m\u001b[0mouts\u001b[0m\u001b[1;33m)\u001b[0m \u001b[1;33m!=\u001b[0m \u001b[0mlist\u001b[0m\u001b[1;33m:\u001b[0m\u001b[1;33m\u001b[0m\u001b[0m\n\u001b[0;32m   1037\u001b[0m                     \u001b[0mouts\u001b[0m \u001b[1;33m=\u001b[0m \u001b[1;33m[\u001b[0m\u001b[0mouts\u001b[0m\u001b[1;33m]\u001b[0m\u001b[1;33m\u001b[0m\u001b[0m\n",
      "\u001b[1;32m/home/ubuntu/anaconda2/lib/python2.7/site-packages/keras/models.pyc\u001b[0m in \u001b[0;36mtrain_on_batch\u001b[1;34m(self, X, y, accuracy, class_weight, sample_weight)\u001b[0m\n\u001b[0;32m    768\u001b[0m         \u001b[0mins\u001b[0m \u001b[1;33m=\u001b[0m \u001b[0mX\u001b[0m \u001b[1;33m+\u001b[0m \u001b[1;33m[\u001b[0m\u001b[0my\u001b[0m\u001b[1;33m,\u001b[0m \u001b[0msample_weight\u001b[0m\u001b[1;33m]\u001b[0m\u001b[1;33m\u001b[0m\u001b[0m\n\u001b[0;32m    769\u001b[0m         \u001b[1;32mif\u001b[0m \u001b[0maccuracy\u001b[0m\u001b[1;33m:\u001b[0m\u001b[1;33m\u001b[0m\u001b[0m\n\u001b[1;32m--> 770\u001b[1;33m             \u001b[1;32mreturn\u001b[0m \u001b[0mself\u001b[0m\u001b[1;33m.\u001b[0m\u001b[0m_train_with_acc\u001b[0m\u001b[1;33m(\u001b[0m\u001b[0mins\u001b[0m\u001b[1;33m)\u001b[0m\u001b[1;33m\u001b[0m\u001b[0m\n\u001b[0m\u001b[0;32m    771\u001b[0m         \u001b[1;32melse\u001b[0m\u001b[1;33m:\u001b[0m\u001b[1;33m\u001b[0m\u001b[0m\n\u001b[0;32m    772\u001b[0m             \u001b[1;32mreturn\u001b[0m \u001b[0mself\u001b[0m\u001b[1;33m.\u001b[0m\u001b[0m_train\u001b[0m\u001b[1;33m(\u001b[0m\u001b[0mins\u001b[0m\u001b[1;33m)\u001b[0m\u001b[1;33m\u001b[0m\u001b[0m\n",
      "\u001b[1;32m/home/ubuntu/anaconda2/lib/python2.7/site-packages/keras/backend/theano_backend.pyc\u001b[0m in \u001b[0;36m__call__\u001b[1;34m(self, inputs)\u001b[0m\n\u001b[0;32m    382\u001b[0m     \u001b[1;32mdef\u001b[0m \u001b[0m__call__\u001b[0m\u001b[1;33m(\u001b[0m\u001b[0mself\u001b[0m\u001b[1;33m,\u001b[0m \u001b[0minputs\u001b[0m\u001b[1;33m)\u001b[0m\u001b[1;33m:\u001b[0m\u001b[1;33m\u001b[0m\u001b[0m\n\u001b[0;32m    383\u001b[0m         \u001b[1;32massert\u001b[0m \u001b[0mtype\u001b[0m\u001b[1;33m(\u001b[0m\u001b[0minputs\u001b[0m\u001b[1;33m)\u001b[0m \u001b[1;32min\u001b[0m \u001b[1;33m{\u001b[0m\u001b[0mlist\u001b[0m\u001b[1;33m,\u001b[0m \u001b[0mtuple\u001b[0m\u001b[1;33m}\u001b[0m\u001b[1;33m\u001b[0m\u001b[0m\n\u001b[1;32m--> 384\u001b[1;33m         \u001b[1;32mreturn\u001b[0m \u001b[0mself\u001b[0m\u001b[1;33m.\u001b[0m\u001b[0mfunction\u001b[0m\u001b[1;33m(\u001b[0m\u001b[1;33m*\u001b[0m\u001b[0minputs\u001b[0m\u001b[1;33m)\u001b[0m\u001b[1;33m\u001b[0m\u001b[0m\n\u001b[0m\u001b[0;32m    385\u001b[0m \u001b[1;33m\u001b[0m\u001b[0m\n\u001b[0;32m    386\u001b[0m \u001b[1;33m\u001b[0m\u001b[0m\n",
      "\u001b[1;32m/home/ubuntu/anaconda2/lib/python2.7/site-packages/theano/compile/function_module.pyc\u001b[0m in \u001b[0;36m__call__\u001b[1;34m(self, *args, **kwargs)\u001b[0m\n\u001b[0;32m    857\u001b[0m         \u001b[0mt0_fn\u001b[0m \u001b[1;33m=\u001b[0m \u001b[0mtime\u001b[0m\u001b[1;33m.\u001b[0m\u001b[0mtime\u001b[0m\u001b[1;33m(\u001b[0m\u001b[1;33m)\u001b[0m\u001b[1;33m\u001b[0m\u001b[0m\n\u001b[0;32m    858\u001b[0m         \u001b[1;32mtry\u001b[0m\u001b[1;33m:\u001b[0m\u001b[1;33m\u001b[0m\u001b[0m\n\u001b[1;32m--> 859\u001b[1;33m             \u001b[0moutputs\u001b[0m \u001b[1;33m=\u001b[0m \u001b[0mself\u001b[0m\u001b[1;33m.\u001b[0m\u001b[0mfn\u001b[0m\u001b[1;33m(\u001b[0m\u001b[1;33m)\u001b[0m\u001b[1;33m\u001b[0m\u001b[0m\n\u001b[0m\u001b[0;32m    860\u001b[0m         \u001b[1;32mexcept\u001b[0m \u001b[0mException\u001b[0m\u001b[1;33m:\u001b[0m\u001b[1;33m\u001b[0m\u001b[0m\n\u001b[0;32m    861\u001b[0m             \u001b[1;32mif\u001b[0m \u001b[0mhasattr\u001b[0m\u001b[1;33m(\u001b[0m\u001b[0mself\u001b[0m\u001b[1;33m.\u001b[0m\u001b[0mfn\u001b[0m\u001b[1;33m,\u001b[0m \u001b[1;34m'position_of_error'\u001b[0m\u001b[1;33m)\u001b[0m\u001b[1;33m:\u001b[0m\u001b[1;33m\u001b[0m\u001b[0m\n",
      "\u001b[1;32m/home/ubuntu/anaconda2/lib/python2.7/site-packages/theano/gof/op.pyc\u001b[0m in \u001b[0;36mrval\u001b[1;34m(p, i, o, n)\u001b[0m\n\u001b[0;32m    905\u001b[0m         \u001b[1;32mif\u001b[0m \u001b[0mparams\u001b[0m \u001b[1;32mis\u001b[0m \u001b[0mgraph\u001b[0m\u001b[1;33m.\u001b[0m\u001b[0mNoParams\u001b[0m\u001b[1;33m:\u001b[0m\u001b[1;33m\u001b[0m\u001b[0m\n\u001b[0;32m    906\u001b[0m             \u001b[1;31m# default arguments are stored in the closure of `rval`\u001b[0m\u001b[1;33m\u001b[0m\u001b[1;33m\u001b[0m\u001b[0m\n\u001b[1;32m--> 907\u001b[1;33m             \u001b[1;32mdef\u001b[0m \u001b[0mrval\u001b[0m\u001b[1;33m(\u001b[0m\u001b[0mp\u001b[0m\u001b[1;33m=\u001b[0m\u001b[0mp\u001b[0m\u001b[1;33m,\u001b[0m \u001b[0mi\u001b[0m\u001b[1;33m=\u001b[0m\u001b[0mnode_input_storage\u001b[0m\u001b[1;33m,\u001b[0m \u001b[0mo\u001b[0m\u001b[1;33m=\u001b[0m\u001b[0mnode_output_storage\u001b[0m\u001b[1;33m,\u001b[0m \u001b[0mn\u001b[0m\u001b[1;33m=\u001b[0m\u001b[0mnode\u001b[0m\u001b[1;33m)\u001b[0m\u001b[1;33m:\u001b[0m\u001b[1;33m\u001b[0m\u001b[0m\n\u001b[0m\u001b[0;32m    908\u001b[0m                 \u001b[0mr\u001b[0m \u001b[1;33m=\u001b[0m \u001b[0mp\u001b[0m\u001b[1;33m(\u001b[0m\u001b[0mn\u001b[0m\u001b[1;33m,\u001b[0m \u001b[1;33m[\u001b[0m\u001b[0mx\u001b[0m\u001b[1;33m[\u001b[0m\u001b[1;36m0\u001b[0m\u001b[1;33m]\u001b[0m \u001b[1;32mfor\u001b[0m \u001b[0mx\u001b[0m \u001b[1;32min\u001b[0m \u001b[0mi\u001b[0m\u001b[1;33m]\u001b[0m\u001b[1;33m,\u001b[0m \u001b[0mo\u001b[0m\u001b[1;33m)\u001b[0m\u001b[1;33m\u001b[0m\u001b[0m\n\u001b[0;32m    909\u001b[0m                 \u001b[1;32mfor\u001b[0m \u001b[0mo\u001b[0m \u001b[1;32min\u001b[0m \u001b[0mnode\u001b[0m\u001b[1;33m.\u001b[0m\u001b[0moutputs\u001b[0m\u001b[1;33m:\u001b[0m\u001b[1;33m\u001b[0m\u001b[0m\n",
      "\u001b[1;31mKeyboardInterrupt\u001b[0m: "
     ]
    }
   ],
   "source": [
    "model.fit_generator(generator, \n",
    "                    samples_per_epoch = 1024*8, \n",
    "                    nb_epoch = 10, \n",
    "                    verbose = 2, \n",
    "                    show_accuracy=True,\n",
    "                    callbacks=[],\n",
    "                    validation_data=None,\n",
    "                    class_weight=None,\n",
    "                    nb_worker=1)"
   ]
  },
  {
   "cell_type": "code",
   "execution_count": null,
   "metadata": {
    "collapsed": true
   },
   "outputs": [],
   "source": []
  },
  {
   "cell_type": "code",
   "execution_count": null,
   "metadata": {
    "collapsed": true
   },
   "outputs": [],
   "source": []
  },
  {
   "cell_type": "code",
   "execution_count": null,
   "metadata": {
    "collapsed": true
   },
   "outputs": [],
   "source": []
  },
  {
   "cell_type": "code",
   "execution_count": null,
   "metadata": {
    "collapsed": true
   },
   "outputs": [],
   "source": [
    "model = generate_model()"
   ]
  },
  {
   "cell_type": "code",
   "execution_count": null,
   "metadata": {
    "collapsed": false
   },
   "outputs": [],
   "source": [
    "nb_epoch = 100\n",
    "batch_size = 1024\n",
    "\n",
    "i = 0\n",
    "for e in range(nb_epoch):\n",
    "    for (X, Y) in batch_data_generator(images_norm, label_image, batch_size):\n",
    "        i += batch_size\n",
    "        print(e, i)\n",
    "        model.fit(X, Y, batch_size=64, nb_epoch=1)"
   ]
  },
  {
   "cell_type": "code",
   "execution_count": null,
   "metadata": {
    "collapsed": true
   },
   "outputs": [],
   "source": []
  },
  {
   "cell_type": "code",
   "execution_count": null,
   "metadata": {
    "collapsed": false,
    "scrolled": true
   },
   "outputs": [],
   "source": [
    "plt.imshow(images_norm[0][100,:,:])"
   ]
  },
  {
   "cell_type": "code",
   "execution_count": null,
   "metadata": {
    "collapsed": false,
    "scrolled": true
   },
   "outputs": [],
   "source": [
    "show_images([image[100,:,:] for image in images], label_image[100, :, :])"
   ]
  },
  {
   "cell_type": "code",
   "execution_count": null,
   "metadata": {
    "collapsed": true
   },
   "outputs": [],
   "source": []
  },
  {
   "cell_type": "code",
   "execution_count": null,
   "metadata": {
    "collapsed": true
   },
   "outputs": [],
   "source": []
  },
  {
   "cell_type": "code",
   "execution_count": null,
   "metadata": {
    "collapsed": true
   },
   "outputs": [],
   "source": [
    "generator = generate_patches(images, 30, 100)"
   ]
  },
  {
   "cell_type": "code",
   "execution_count": null,
   "metadata": {
    "collapsed": false,
    "scrolled": false
   },
   "outputs": [],
   "source": [
    "for i in range(100):\n",
    "    ps = next(generator)\n",
    "    for k in range(len(ps)):\n",
    "        filename = '/home/mbz/data/BRATS/tmp/%d_%d.png' % (i, k)\n",
    "        sc.misc.imsave(filename, ps[k])"
   ]
  },
  {
   "cell_type": "code",
   "execution_count": null,
   "metadata": {
    "collapsed": false
   },
   "outputs": [],
   "source": [
    "print image.GetSize()\n",
    "print image.GetOrigin()\n",
    "print image.GetSpacing()\n",
    "print image.GetDirection()\n",
    "print image.GetNumberOfComponentsPerPixel()"
   ]
  },
  {
   "cell_type": "code",
   "execution_count": null,
   "metadata": {
    "collapsed": true
   },
   "outputs": [],
   "source": []
  }
 ],
 "metadata": {
  "kernelspec": {
   "display_name": "Python 2",
   "language": "python",
   "name": "python2"
  },
  "language_info": {
   "codemirror_mode": {
    "name": "ipython",
    "version": 2
   },
   "file_extension": ".py",
   "mimetype": "text/x-python",
   "name": "python",
   "nbconvert_exporter": "python",
   "pygments_lexer": "ipython2",
   "version": "2.7.11"
  }
 },
 "nbformat": 4,
 "nbformat_minor": 0
}
